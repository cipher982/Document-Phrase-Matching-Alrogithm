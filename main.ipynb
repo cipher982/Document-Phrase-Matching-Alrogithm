{
 "cells": [
  {
   "cell_type": "code",
   "execution_count": 1,
   "metadata": {},
   "outputs": [
    {
     "name": "stdout",
     "output_type": "stream",
     "text": [
      "                                                      DESCRIPTION\n",
      "UNIQUEID                                                         \n",
      "BAR006FDC-ABAG  ACCUMULATORS PIPING AND VALVES AND OTHER RELAT...\n",
      "BAR006FDC-AAAB                 HYDRAULIC FLUID CIRC. PUMP PUMPS C\n",
      "BAR007WBA                                                       A\n",
      "BAR007FCC                                                       C\n",
      "BAR007FHC                                                       C\n",
      "                                                             DESCRIPTION\n",
      "UNIQUEID                                                                \n",
      "BAR006-ASA-HV-21002A   U6A HRSG POWER AUGMENTATION STEAM MANUAL SUPPL...\n",
      "BAR006-ASA-MCMA-1AB    U6A HRSG POWER AUGMENTATION STEAM BLOCKING VAL...\n",
      "BAR006-ASA-MCMA-1AJ    U6A HRSG POWER AUGMENTATION VENT VALVE 480V BR...\n",
      "BAR006-ASA-MCMB-10B    U6B POWER AUGMENTATION STEAM BLOCKING VALVE 48...\n",
      "BAR006-ASA-PNV-21001A  U6A HRSG POWER AUGMENTATION PRESSURE CONTROL A...\n"
     ]
    }
   ],
   "source": [
    "import numpy as np\n",
    "import pandas as pd\n",
    "from math import sqrt, log\n",
    "from itertools import chain, product\n",
    "from collections import defaultdict\n",
    "%load_ext autotime\n",
    "\n",
    "\n",
    "df1 = pd.read_excel('corpus.xlsx', sheetname='sh',index_col=0)\n",
    "df2 = pd.read_excel('corpus.xlsx', sheetname='lo',index_col=0)\n",
    "\n",
    "print(df1.head())\n",
    "print(df2.head())"
   ]
  },
  {
   "cell_type": "code",
   "execution_count": 2,
   "metadata": {},
   "outputs": [
    {
     "data": {
      "text/html": [
       "<div>\n",
       "<style>\n",
       "    .dataframe thead tr:only-child th {\n",
       "        text-align: right;\n",
       "    }\n",
       "\n",
       "    .dataframe thead th {\n",
       "        text-align: left;\n",
       "    }\n",
       "\n",
       "    .dataframe tbody tr th {\n",
       "        vertical-align: top;\n",
       "    }\n",
       "</style>\n",
       "<table border=\"1\" class=\"dataframe\">\n",
       "  <thead>\n",
       "    <tr style=\"text-align: right;\">\n",
       "      <th></th>\n",
       "      <th>DESCRIPTION</th>\n",
       "    </tr>\n",
       "    <tr>\n",
       "      <th>UNIQUEID</th>\n",
       "      <th></th>\n",
       "    </tr>\n",
       "  </thead>\n",
       "  <tbody>\n",
       "    <tr>\n",
       "      <th>BAR006-ASA-HV-21002A</th>\n",
       "      <td>U6A HRSG POWER AUGMENTATION STEAM MANUAL SUPPL...</td>\n",
       "    </tr>\n",
       "    <tr>\n",
       "      <th>BAR006-ASA-MCMA-1AB</th>\n",
       "      <td>U6A HRSG POWER AUGMENTATION STEAM BLOCKING VAL...</td>\n",
       "    </tr>\n",
       "    <tr>\n",
       "      <th>BAR006-ASA-MCMA-1AJ</th>\n",
       "      <td>U6A HRSG POWER AUGMENTATION VENT VALVE 480V BR...</td>\n",
       "    </tr>\n",
       "    <tr>\n",
       "      <th>BAR006-ASA-MCMB-10B</th>\n",
       "      <td>U6B POWER AUGMENTATION STEAM BLOCKING VALVE 48...</td>\n",
       "    </tr>\n",
       "    <tr>\n",
       "      <th>BAR006-ASA-PNV-21001A</th>\n",
       "      <td>U6A HRSG POWER AUGMENTATION PRESSURE CONTROL A...</td>\n",
       "    </tr>\n",
       "  </tbody>\n",
       "</table>\n",
       "</div>"
      ],
      "text/plain": [
       "                                                             DESCRIPTION\n",
       "UNIQUEID                                                                \n",
       "BAR006-ASA-HV-21002A   U6A HRSG POWER AUGMENTATION STEAM MANUAL SUPPL...\n",
       "BAR006-ASA-MCMA-1AB    U6A HRSG POWER AUGMENTATION STEAM BLOCKING VAL...\n",
       "BAR006-ASA-MCMA-1AJ    U6A HRSG POWER AUGMENTATION VENT VALVE 480V BR...\n",
       "BAR006-ASA-MCMB-10B    U6B POWER AUGMENTATION STEAM BLOCKING VALVE 48...\n",
       "BAR006-ASA-PNV-21001A  U6A HRSG POWER AUGMENTATION PRESSURE CONTROL A..."
      ]
     },
     "execution_count": 2,
     "metadata": {},
     "output_type": "execute_result"
    }
   ],
   "source": [
    "df2.head()"
   ]
  },
  {
   "cell_type": "code",
   "execution_count": 3,
   "metadata": {
    "collapsed": true
   },
   "outputs": [],
   "source": [
    "import numpy as np\n",
    "import pandas as pd\n",
    "from math import sqrt, log\n",
    "from itertools import chain, product\n",
    "from collections import defaultdict\n",
    "\n",
    "# Load the main 2 tables I will be comparing\n",
    "df1 = pd.read_excel('corpus.xlsx', sheetname='sh',index_col=0)\n",
    "df2 = pd.read_excel('corpus.xlsx', sheetname='lo',index_col=0)\n",
    "\n",
    "# method of calculating similarity of the one-hot encoding\n",
    "def cosine_sim(u,v):\n",
    "    return np.dot(u,v) / (sqrt(np.dot(u,u)) * sqrt(np.dot(v,v)))\n",
    "\n",
    "# Vectorize to one-hot binary encoding as numbers work better than strings!\n",
    "def corpus2vectors(corpus):\n",
    "    def vectorize(sentence, vocab):\n",
    "        return [sentence.split().count(i.lower()) for i in vocab]\n",
    "    vectorized_corpus = []\n",
    "    # Remobe dupes and sort\n",
    "    vocab = sorted(set(chain(*[i.lower().split() for i in corpus])))\n",
    "    for i in corpus:\n",
    "        vectorized_corpus.append((i, vectorize(i, vocab)))\n",
    "    return vectorized_corpus, vocab\n",
    "\n",
    "# Basically just combine these two datasets to get a single corpus\n",
    "def create_test_corpus(data1,data2):\n",
    "    all_sents = list(data1) + list(data2)\n",
    "    corpus, vocab = corpus2vectors(all_sents)\n",
    "    return corpus, vocab      \n",
    "\n",
    "# Workhouse function, cycle through all combinations and compute scores\n",
    "def test_cosine(data1,data2, verbose=False):\n",
    "    score,highestScore = 0,0\n",
    "    counter = 0\n",
    "    newMatch = []\n",
    "    matches = []\n",
    "    \n",
    "    def create_test_corpus(corp1,corp2):\n",
    "        \n",
    "        data1_lwr = corp1['DESCRIPTION'].str.lower()\n",
    "        data2_lwr = corp2['DESCRIPTION'].str.lower() \n",
    "        \n",
    "        all_sents = list(data1_lwr) + list(data2_lwr)\n",
    "        corpus, vocab = corpus2vectors(all_sents)\n",
    "        return corpus, vocab, data1_lwr, data2_lwr\n",
    "                       \n",
    "    corpus,vocab,corp_1,corp_2 = create_test_corpus(corp1=data1,corp2=data2)\n",
    "    \n",
    "    corpus_dict = {}\n",
    "    test = list(zip(*corpus))\n",
    "    for counter,i in enumerate(test[0]):\n",
    "        corpus_dict.update({test[0][counter]:test[1][counter]})\n",
    "    \n",
    "    #print(\"CORPUS\")\n",
    "    #print(corpus)\n",
    "    # Cycle through each row in data1\n",
    "    for dat1_ix, dat1 in enumerate(corp_1):\n",
    "        if verbose == True:\n",
    "            print(\"################################################################\")\n",
    "            print(\"dat1:\",dat1)\n",
    "\n",
    "        # For each iteration of data1, cycle through all of data2 below\n",
    "        for dat2_ix, dat2 in enumerate(corp_2):\n",
    "            \n",
    "            if verbose == True:\n",
    "                print(\"_______________________\")\n",
    "                print(\"Phrase_1:[{0}] {1}\".format(dat1_ix,dat1))\n",
    "                print(\"Phrase_2:[{0}] {1}\".format(dat2_ix,dat2))\n",
    "                print('length: phrase_1:',len(dat1),' phrase_2:',len(dat2))\n",
    "            \n",
    "\n",
    "            # Calculate cosime similarity from each line to the other\n",
    "            score = cosine_sim(corpus_dict[dat1],corpus_dict[dat2])\n",
    "\n",
    "            newMatch = [dat1_ix, dat2_ix, score]\n",
    "            matches.append(newMatch)\n",
    "        \n",
    "        counter = counter + 1\n",
    "    \n",
    "    return matches"
   ]
  },
  {
   "cell_type": "code",
   "execution_count": null,
   "metadata": {
    "collapsed": true
   },
   "outputs": [],
   "source": [
    "from multiprocessing import Pool\n",
    "\n",
    "# Run this with a pool of 5 agents having a chunksize of 3 until finished\n",
    "df1_1 = df1.iloc[:1000,:]\n",
    "df1_2 = df1.iloc[1000:2000,:]\n",
    "df1_3 = df1.iloc[2000:3000,:]\n",
    "df1_4 = df1.iloc[3000:4000,:]\n",
    "df1_5 = df1.iloc[4000:5000,:]\n",
    "df1_6 = df1.iloc[5000:6000,:]\n",
    "df1_7 = df1.iloc[6000:,:]\n",
    "\n",
    "go1 = [df1_1,df1_2,df1_3,df1_4,df1_5,df1_6,df1_7]\n",
    "\n",
    "dataset = go1\n",
    "agents = 7\n",
    "chunksize = 1\n",
    "with Pool(processes=agents) as pool:\n",
    "    result = pool.map(test_cosine, dataset, chunksize)"
   ]
  },
  {
   "cell_type": "code",
   "execution_count": 13,
   "metadata": {
    "collapsed": true
   },
   "outputs": [],
   "source": [
    "# Run the main program, can be slow!\n",
    "matches = test_cosine(df1,df2)\n",
    "\n",
    "# Convert to DataFrame and grab top-250 per index (phrase) in document 1\n",
    "dfMatches = pd.DataFrame(matches)\n",
    "dfMatches.sort_values(2, ascending=False, inplace=True)\n",
    "top250Matches = dfMatches.groupby(0).head(250)\n",
    "\n",
    "# Join back the full phrases from the indices in columns 0,1\n",
    "df1['newIndex'] = list(range(0, len(df1)))\n",
    "df2['newIndex'] = list(range(0, len(df2)))\n",
    "top250Matches = top250Matches.merge(df1,left_on=0,right_on='newIndex',how='left')\n",
    "top250Matches = top250Matches.merge(df2,left_on=1,right_on='newIndex',how='left')\n",
    "\n",
    "# Sort by original order from document 1 using index\n",
    "top250Matches.sort_values(0, ascending=False, inplace=True)\n",
    "\n",
    "# Clean up the DataFrame\n",
    "top250Matches.drop(['newIndex_x','newIndex_y',0,1], axis=1, inplace=True)\n",
    "top250Matches.columns.values[0] = 'CosineScore'"
   ]
  },
  {
   "cell_type": "code",
   "execution_count": 91,
   "metadata": {},
   "outputs": [
    {
     "name": "stdout",
     "output_type": "stream",
     "text": [
      "time: 16.3 s\n"
     ]
    }
   ],
   "source": [
    "# Save to CSV if you want\n",
    "top250Matches.to_csv(\"top250CosineScores.csv\", index_label=False)"
   ]
  }
 ],
 "metadata": {
  "kernelspec": {
   "display_name": "Python 3",
   "language": "python",
   "name": "python3"
  },
  "language_info": {
   "codemirror_mode": {
    "name": "ipython",
    "version": 3
   },
   "file_extension": ".py",
   "mimetype": "text/x-python",
   "name": "python",
   "nbconvert_exporter": "python",
   "pygments_lexer": "ipython3",
   "version": "3.6.1"
  }
 },
 "nbformat": 4,
 "nbformat_minor": 2
}
